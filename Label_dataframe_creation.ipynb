{
 "cells": [
  {
   "cell_type": "code",
   "execution_count": 1,
   "id": "94c4c020-0135-462b-97c0-fcad14b70590",
   "metadata": {},
   "outputs": [],
   "source": [
    "from os import listdir\n",
    "from os.path import isfile, join\n",
    "import pandas as pd"
   ]
  },
  {
   "cell_type": "code",
   "execution_count": null,
   "id": "e58d1584-799c-475d-85d6-6ee935ecf4f6",
   "metadata": {},
   "outputs": [],
   "source": [
    "def code(lst_code,df):\n",
    "    code = torch.flatten(lst_code[0], start_dim=1)\n",
    "    for k in range(len(lst_code)-1):\n",
    "        code = torch.cat((code,  torch.flatten(lst_code[k+1], start_dim=1)))\n",
    "\n",
    "    lst_init = list(range(code.shape[0]))\n",
    "\n",
    "    for i in range(code.shape[1]):\n",
    "        df['code'+str(i)] = lst_init  \n",
    "\n",
    "    for i in range(code.shape[0]):  \n",
    "        for j in range(code.shape[1]): #code de 256\n",
    "            df.iloc[i,j+2] = code[i][j].tolist()\n",
    "    return df"
   ]
  },
  {
   "cell_type": "code",
   "execution_count": 2,
   "id": "a054a0fd-54b6-4bc0-be1f-11ab5d75e16b",
   "metadata": {},
   "outputs": [
    {
     "name": "stdout",
     "output_type": "stream",
     "text": [
      "                                                path  label\n",
      "0  C:/Users/Enzo.Magal/Documents/Enzo2022/Active-...      0\n",
      "1  C:/Users/Enzo.Magal/Documents/Enzo2022/Active-...      0\n",
      "2  C:/Users/Enzo.Magal/Documents/Enzo2022/Active-...      0\n",
      "3  C:/Users/Enzo.Magal/Documents/Enzo2022/Active-...      0\n",
      "4  C:/Users/Enzo.Magal/Documents/Enzo2022/Active-...      0\n"
     ]
    }
   ],
   "source": [
    "path = \"C:/Users/Enzo.Magal/Documents/Enzo2022/Active-Learning-Phanteras-master/Data/shoes/test/adidas\"\n",
    "\n",
    "files = [path + \"/\" + f for f in listdir(path) if isfile(join(path, f))]\n",
    "labels = [0] * len(files)\n",
    "\n",
    "data = {'path': files,\n",
    "        'label': labels}\n",
    "\n",
    "df_test_1 = pd.DataFrame(data)\n",
    "print(df_test_1.head())"
   ]
  },
  {
   "cell_type": "code",
   "execution_count": 3,
   "id": "8695a633-e16a-4f80-a54a-5364e53adc30",
   "metadata": {},
   "outputs": [
    {
     "name": "stdout",
     "output_type": "stream",
     "text": [
      "                                                path  label\n",
      "0  C:/Users/Enzo.Magal/Documents/Enzo2022/Active-...      1\n",
      "1  C:/Users/Enzo.Magal/Documents/Enzo2022/Active-...      1\n",
      "2  C:/Users/Enzo.Magal/Documents/Enzo2022/Active-...      1\n",
      "3  C:/Users/Enzo.Magal/Documents/Enzo2022/Active-...      1\n",
      "4  C:/Users/Enzo.Magal/Documents/Enzo2022/Active-...      1\n"
     ]
    }
   ],
   "source": [
    "path = \"C:/Users/Enzo.Magal/Documents/Enzo2022/Active-Learning-Phanteras-master/Data/shoes/test/converse\"\n",
    "\n",
    "files = [path + \"/\" + f for f in listdir(path) if isfile(join(path, f))]\n",
    "labels = [1] * len(files)\n",
    "\n",
    "data = {'path': files,\n",
    "        'label': labels}\n",
    "\n",
    "df_test_2 = pd.DataFrame(data)\n",
    "print(df_test_2.head())"
   ]
  },
  {
   "cell_type": "code",
   "execution_count": 4,
   "id": "dd296926-5050-4681-baa9-dc5ca8d1b042",
   "metadata": {},
   "outputs": [
    {
     "name": "stdout",
     "output_type": "stream",
     "text": [
      "                                                path  label\n",
      "0  C:/Users/Enzo.Magal/Documents/Enzo2022/Active-...      2\n",
      "1  C:/Users/Enzo.Magal/Documents/Enzo2022/Active-...      2\n",
      "2  C:/Users/Enzo.Magal/Documents/Enzo2022/Active-...      2\n",
      "3  C:/Users/Enzo.Magal/Documents/Enzo2022/Active-...      2\n",
      "4  C:/Users/Enzo.Magal/Documents/Enzo2022/Active-...      2\n"
     ]
    }
   ],
   "source": [
    "path = \"C:/Users/Enzo.Magal/Documents/Enzo2022/Active-Learning-Phanteras-master/Data/shoes/test/nike\"\n",
    "\n",
    "files = [path + \"/\" + f for f in listdir(path) if isfile(join(path, f))]\n",
    "labels = [2] * len(files)\n",
    "\n",
    "data = {'path': files,\n",
    "        'label': labels}\n",
    "\n",
    "df_test_3 = pd.DataFrame(data)\n",
    "print(df_test_3.head())"
   ]
  },
  {
   "cell_type": "code",
   "execution_count": 5,
   "id": "31643c7e-0c3f-4233-92f1-b2411caee0ae",
   "metadata": {},
   "outputs": [
    {
     "name": "stdout",
     "output_type": "stream",
     "text": [
      "                                                path  label\n",
      "0  C:/Users/Enzo.Magal/Documents/Enzo2022/Active-...      1\n",
      "1  C:/Users/Enzo.Magal/Documents/Enzo2022/Active-...      2\n",
      "2  C:/Users/Enzo.Magal/Documents/Enzo2022/Active-...      2\n",
      "3  C:/Users/Enzo.Magal/Documents/Enzo2022/Active-...      2\n",
      "4  C:/Users/Enzo.Magal/Documents/Enzo2022/Active-...      0\n"
     ]
    }
   ],
   "source": [
    "df_test = pd.concat([df_test_1, df_test_2, df_test_3])\n",
    "df_test = df_test.sample(frac=1).reset_index(drop=True)\n",
    "print(df_test.head())"
   ]
  },
  {
   "cell_type": "code",
   "execution_count": 6,
   "id": "c5a0d2eb-e6d7-4134-a249-4039f8ba8f2a",
   "metadata": {},
   "outputs": [
    {
     "name": "stdout",
     "output_type": "stream",
     "text": [
      "                                                path  label\n",
      "0  C:/Users/Enzo.Magal/Documents/Enzo2022/Active-...      0\n",
      "1  C:/Users/Enzo.Magal/Documents/Enzo2022/Active-...      0\n",
      "2  C:/Users/Enzo.Magal/Documents/Enzo2022/Active-...      0\n",
      "3  C:/Users/Enzo.Magal/Documents/Enzo2022/Active-...      0\n",
      "4  C:/Users/Enzo.Magal/Documents/Enzo2022/Active-...      0\n"
     ]
    }
   ],
   "source": [
    "path = \"C:/Users/Enzo.Magal/Documents/Enzo2022/Active-Learning-Phanteras-master/Data/shoes/train/adidas\"\n",
    "\n",
    "files = [path + \"/\" + f for f in listdir(path) if isfile(join(path, f))]\n",
    "labels = [0] * len(files)\n",
    "\n",
    "data = {'path': files,\n",
    "        'label': labels}\n",
    "\n",
    "df_train_1 = pd.DataFrame(data)\n",
    "print(df_train_1.head())"
   ]
  },
  {
   "cell_type": "code",
   "execution_count": 7,
   "id": "b5ffa15d-17ba-4cf2-9e23-c6ef7b499384",
   "metadata": {},
   "outputs": [
    {
     "name": "stdout",
     "output_type": "stream",
     "text": [
      "                                                path  label\n",
      "0  C:/Users/Enzo.Magal/Documents/Enzo2022/Active-...      1\n",
      "1  C:/Users/Enzo.Magal/Documents/Enzo2022/Active-...      1\n",
      "2  C:/Users/Enzo.Magal/Documents/Enzo2022/Active-...      1\n",
      "3  C:/Users/Enzo.Magal/Documents/Enzo2022/Active-...      1\n",
      "4  C:/Users/Enzo.Magal/Documents/Enzo2022/Active-...      1\n"
     ]
    }
   ],
   "source": [
    "path = \"C:/Users/Enzo.Magal/Documents/Enzo2022/Active-Learning-Phanteras-master/Data/shoes/train/converse\"\n",
    "\n",
    "files = [path + \"/\" + f for f in listdir(path) if isfile(join(path, f))]\n",
    "labels = [1] * len(files)\n",
    "\n",
    "data = {'path': files,\n",
    "        'label': labels}\n",
    "\n",
    "df_train_2 = pd.DataFrame(data)\n",
    "print(df_train_2.head())"
   ]
  },
  {
   "cell_type": "code",
   "execution_count": 8,
   "id": "e5bd4beb-7968-433b-bcaa-43fb468cc4ec",
   "metadata": {},
   "outputs": [
    {
     "name": "stdout",
     "output_type": "stream",
     "text": [
      "                                                path  label\n",
      "0  C:/Users/Enzo.Magal/Documents/Enzo2022/Active-...      2\n",
      "1  C:/Users/Enzo.Magal/Documents/Enzo2022/Active-...      2\n",
      "2  C:/Users/Enzo.Magal/Documents/Enzo2022/Active-...      2\n",
      "3  C:/Users/Enzo.Magal/Documents/Enzo2022/Active-...      2\n",
      "4  C:/Users/Enzo.Magal/Documents/Enzo2022/Active-...      2\n"
     ]
    }
   ],
   "source": [
    "path = \"C:/Users/Enzo.Magal/Documents/Enzo2022/Active-Learning-Phanteras-master/Data/shoes/train/nike\"\n",
    "\n",
    "files = [path + \"/\" + f for f in listdir(path) if isfile(join(path, f))]\n",
    "labels = [2] * len(files)\n",
    "\n",
    "data = {'path': files,\n",
    "        'label': labels}\n",
    "\n",
    "df_train_3 = pd.DataFrame(data)\n",
    "print(df_train_3.head())"
   ]
  },
  {
   "cell_type": "code",
   "execution_count": 9,
   "id": "13cc7df3-9e2f-4cf3-9f21-b7491aeed494",
   "metadata": {},
   "outputs": [
    {
     "name": "stdout",
     "output_type": "stream",
     "text": [
      "                                                path  label\n",
      "0  C:/Users/Enzo.Magal/Documents/Enzo2022/Active-...      0\n",
      "1  C:/Users/Enzo.Magal/Documents/Enzo2022/Active-...      2\n",
      "2  C:/Users/Enzo.Magal/Documents/Enzo2022/Active-...      0\n",
      "3  C:/Users/Enzo.Magal/Documents/Enzo2022/Active-...      2\n",
      "4  C:/Users/Enzo.Magal/Documents/Enzo2022/Active-...      1\n"
     ]
    }
   ],
   "source": [
    "df_train = pd.concat([df_train_1, df_train_2, df_train_3])\n",
    "df_train = df_train.sample(frac=1).reset_index(drop=True)\n",
    "print(df_train.head())"
   ]
  },
  {
   "cell_type": "code",
   "execution_count": 10,
   "id": "4717ea54-7224-4272-8d60-5af13a986971",
   "metadata": {},
   "outputs": [],
   "source": [
    "df_test.to_csv('./Data/shoes/test_shoes.csv', index=False)\n",
    "df_train.to_csv('./Data/shoes/train_shoes.csv', index=False)"
   ]
  },
  {
   "cell_type": "code",
   "execution_count": null,
   "id": "17785690-8660-4e0e-a4d7-9e7958947bc5",
   "metadata": {},
   "outputs": [],
   "source": []
  }
 ],
 "metadata": {
  "kernelspec": {
   "display_name": "Python 3 (ipykernel)",
   "language": "python",
   "name": "python3"
  },
  "language_info": {
   "codemirror_mode": {
    "name": "ipython",
    "version": 3
   },
   "file_extension": ".py",
   "mimetype": "text/x-python",
   "name": "python",
   "nbconvert_exporter": "python",
   "pygments_lexer": "ipython3",
   "version": "3.9.7"
  }
 },
 "nbformat": 4,
 "nbformat_minor": 5
}
